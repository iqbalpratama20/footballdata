{
 "cells": [
  {
   "cell_type": "code",
   "execution_count": 34,
   "metadata": {},
   "outputs": [
    {
     "data": {
      "text/plain": [
       "<module 'function.player' from '/Users/viorentina/Documents/Github/footballdata/fbref/function/player.py'>"
      ]
     },
     "execution_count": 34,
     "metadata": {},
     "output_type": "execute_result"
    }
   ],
   "source": [
    "from function import player\n",
    "import pandas as pd"
   ]
  },
  {
   "cell_type": "code",
   "execution_count": 35,
   "metadata": {},
   "outputs": [],
   "source": [
    "season = '2018-2019'\n",
    "standard = player.get_standard_stats(f'https://fbref.com/en/comps/23/{season}/stats/{season}-Eredivisie-Stats', 'Eredivisie')\n",
    "passing = player.get_passing(f'https://fbref.com/en/comps/23/{season}/passing/{season}-Eredivisie-Stats', 'Eredivisie')\n",
    "shooting = player.get_shooting(f'https://fbref.com/en/comps/23/{season}/shooting/{season}-Eredivisie-Stats', 'Eredivisie')\n",
    "pass_type = player.get_pass_type(f'https://fbref.com/en/comps/23/{season}/passing_types/{season}-Eredivisie-Stats', 'Eredivisie')\n",
    "gsc = player.get_gsc(f'https://fbref.com/en/comps/23/{season}/gca/{season}-Eredivisie-Stats', 'Eredivisie')\n",
    "defact = player.get_defensive_action(f'https://fbref.com/en/comps/23/{season}/defense/{season}-Eredivisie-Stats', 'Eredivisie')\n",
    "possession = player.get_possession(f'https://fbref.com/en/comps/23/{season}/possession/{season}-Eredivisie-Stats', 'Eredivisie')\n",
    "playing_time = player.get_playing_time(f'https://fbref.com/en/comps/23/{season}/playingtime/{season}-Eredivisie-Stats', 'Eredivisie')\n",
    "misc = player.get_misc(f'https://fbref.com/en/comps/23/{season}/misc/{season}-Eredivisie-Stats', 'Eredivisie')"
   ]
  },
  {
   "cell_type": "code",
   "execution_count": null,
   "metadata": {},
   "outputs": [],
   "source": []
  }
 ],
 "metadata": {
  "kernelspec": {
   "display_name": "footballdata",
   "language": "python",
   "name": "python3"
  },
  "language_info": {
   "codemirror_mode": {
    "name": "ipython",
    "version": 3
   },
   "file_extension": ".py",
   "mimetype": "text/x-python",
   "name": "python",
   "nbconvert_exporter": "python",
   "pygments_lexer": "ipython3",
   "version": "3.10.6"
  },
  "orig_nbformat": 4
 },
 "nbformat": 4,
 "nbformat_minor": 2
}
